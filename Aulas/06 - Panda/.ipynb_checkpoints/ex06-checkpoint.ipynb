{
 "cells": [
  {
   "cell_type": "code",
   "execution_count": 1,
   "id": "a3363945",
   "metadata": {},
   "outputs": [
    {
     "data": {
      "text/plain": [
       "M05    Maria\n",
       "M14     Cris\n",
       "dtype: object"
      ]
     },
     "execution_count": 1,
     "metadata": {},
     "output_type": "execute_result"
    }
   ],
   "source": [
    "import pandas as pd\n",
    "\n",
    "### séries\n",
    "dic_alunos = {'M02': 'João',\n",
    "             'M05': 'Maria',\n",
    "             'M13': 'Bill',\n",
    "             'M14': 'Cris',\n",
    "             'M19': 'Jimi'}\n",
    "\n",
    "alunos = pd.Series(dic_alunos)\n",
    "\n",
    "# alunos[0]\n",
    "# alunos['M02']\n",
    "# alunos[['M02', 'M19', 'M13', 'M14']]\n",
    "alunos[['M05', 'M14']]"
   ]
  },
  {
   "cell_type": "code",
   "execution_count": 2,
   "id": "d82e6de6",
   "metadata": {},
   "outputs": [
    {
     "data": {
      "text/plain": [
       "0    1.000000\n",
       "1    1.732051\n",
       "2    2.236068\n",
       "dtype: float64"
      ]
     },
     "execution_count": 2,
     "metadata": {},
     "output_type": "execute_result"
    }
   ],
   "source": [
    "s1 = pd.Series([2, 4, 6])\n",
    "s2 = pd.Series([1, 3, 5])\n",
    "\n",
    "# s1 * s2\n",
    "\n",
    "import numpy as np\n",
    "\n",
    "np.sqrt(s2)"
   ]
  },
  {
   "cell_type": "code",
   "execution_count": 3,
   "id": "6e4088c5",
   "metadata": {},
   "outputs": [
    {
     "data": {
      "text/html": [
       "<div>\n",
       "<style scoped>\n",
       "    .dataframe tbody tr th:only-of-type {\n",
       "        vertical-align: middle;\n",
       "    }\n",
       "\n",
       "    .dataframe tbody tr th {\n",
       "        vertical-align: top;\n",
       "    }\n",
       "\n",
       "    .dataframe thead th {\n",
       "        text-align: right;\n",
       "    }\n",
       "</style>\n",
       "<table border=\"1\" class=\"dataframe\">\n",
       "  <thead>\n",
       "    <tr style=\"text-align: right;\">\n",
       "      <th></th>\n",
       "      <th>nome</th>\n",
       "      <th>continente</th>\n",
       "      <th>extensao</th>\n",
       "      <th>corVerde</th>\n",
       "    </tr>\n",
       "    <tr>\n",
       "      <th>sigla</th>\n",
       "      <th></th>\n",
       "      <th></th>\n",
       "      <th></th>\n",
       "      <th></th>\n",
       "    </tr>\n",
       "  </thead>\n",
       "  <tbody>\n",
       "    <tr>\n",
       "      <th>AR</th>\n",
       "      <td>Argentina</td>\n",
       "      <td>América</td>\n",
       "      <td>2780</td>\n",
       "      <td>0</td>\n",
       "    </tr>\n",
       "    <tr>\n",
       "      <th>BR</th>\n",
       "      <td>Brasil</td>\n",
       "      <td>América</td>\n",
       "      <td>8511</td>\n",
       "      <td>1</td>\n",
       "    </tr>\n",
       "    <tr>\n",
       "      <th>FR</th>\n",
       "      <td>França</td>\n",
       "      <td>Europa</td>\n",
       "      <td>644</td>\n",
       "      <td>0</td>\n",
       "    </tr>\n",
       "    <tr>\n",
       "      <th>IT</th>\n",
       "      <td>Itália</td>\n",
       "      <td>Europa</td>\n",
       "      <td>301</td>\n",
       "      <td>1</td>\n",
       "    </tr>\n",
       "    <tr>\n",
       "      <th>UK</th>\n",
       "      <td>Reino Unido</td>\n",
       "      <td>Europa</td>\n",
       "      <td>244</td>\n",
       "      <td>0</td>\n",
       "    </tr>\n",
       "  </tbody>\n",
       "</table>\n",
       "</div>"
      ],
      "text/plain": [
       "              nome continente  extensao  corVerde\n",
       "sigla                                            \n",
       "AR       Argentina    América      2780         0\n",
       "BR          Brasil    América      8511         1\n",
       "FR          França     Europa       644         0\n",
       "IT          Itália     Europa       301         1\n",
       "UK     Reino Unido     Europa       244         0"
      ]
     },
     "execution_count": 3,
     "metadata": {},
     "output_type": "execute_result"
    }
   ],
   "source": [
    "# DataFrames\n",
    "\n",
    "paises = pd.read_csv('https://raw.githubusercontent.com/celsocrivelaro/simple-datasets/main/paises.csv', index_col = 'sigla')\n",
    "paises"
   ]
  },
  {
   "cell_type": "code",
   "execution_count": 4,
   "id": "dfbe38ad",
   "metadata": {},
   "outputs": [
    {
     "data": {
      "text/plain": [
       "nome           Brasil\n",
       "continente    América\n",
       "extensao         8511\n",
       "corVerde            1\n",
       "Name: BR, dtype: object"
      ]
     },
     "execution_count": 4,
     "metadata": {},
     "output_type": "execute_result"
    }
   ],
   "source": [
    "# paises.iloc[1]\n",
    "paises.loc['BR']"
   ]
  },
  {
   "cell_type": "code",
   "execution_count": 5,
   "id": "e6efacf2",
   "metadata": {},
   "outputs": [
    {
     "data": {
      "text/html": [
       "<div>\n",
       "<style scoped>\n",
       "    .dataframe tbody tr th:only-of-type {\n",
       "        vertical-align: middle;\n",
       "    }\n",
       "\n",
       "    .dataframe tbody tr th {\n",
       "        vertical-align: top;\n",
       "    }\n",
       "\n",
       "    .dataframe thead th {\n",
       "        text-align: right;\n",
       "    }\n",
       "</style>\n",
       "<table border=\"1\" class=\"dataframe\">\n",
       "  <thead>\n",
       "    <tr style=\"text-align: right;\">\n",
       "      <th></th>\n",
       "      <th>nome</th>\n",
       "      <th>continente</th>\n",
       "      <th>extensao</th>\n",
       "      <th>corVerde</th>\n",
       "    </tr>\n",
       "    <tr>\n",
       "      <th>sigla</th>\n",
       "      <th></th>\n",
       "      <th></th>\n",
       "      <th></th>\n",
       "      <th></th>\n",
       "    </tr>\n",
       "  </thead>\n",
       "  <tbody>\n",
       "    <tr>\n",
       "      <th>AR</th>\n",
       "      <td>Argentina</td>\n",
       "      <td>América</td>\n",
       "      <td>2780</td>\n",
       "      <td>0</td>\n",
       "    </tr>\n",
       "  </tbody>\n",
       "</table>\n",
       "</div>"
      ],
      "text/plain": [
       "            nome continente  extensao  corVerde\n",
       "sigla                                          \n",
       "AR     Argentina    América      2780         0"
      ]
     },
     "execution_count": 5,
     "metadata": {},
     "output_type": "execute_result"
    }
   ],
   "source": [
    "paises[((paises['extensao'] > 2000) & (paises['corVerde'] == 0))]"
   ]
  },
  {
   "cell_type": "code",
   "execution_count": 6,
   "id": "72a8d685",
   "metadata": {},
   "outputs": [
    {
     "data": {
      "text/html": [
       "<div>\n",
       "<style scoped>\n",
       "    .dataframe tbody tr th:only-of-type {\n",
       "        vertical-align: middle;\n",
       "    }\n",
       "\n",
       "    .dataframe tbody tr th {\n",
       "        vertical-align: top;\n",
       "    }\n",
       "\n",
       "    .dataframe thead th {\n",
       "        text-align: right;\n",
       "    }\n",
       "</style>\n",
       "<table border=\"1\" class=\"dataframe\">\n",
       "  <thead>\n",
       "    <tr style=\"text-align: right;\">\n",
       "      <th></th>\n",
       "      <th>nome</th>\n",
       "      <th>continente</th>\n",
       "      <th>extensao</th>\n",
       "      <th>corVerde</th>\n",
       "      <th>Área(km²)</th>\n",
       "    </tr>\n",
       "    <tr>\n",
       "      <th>sigla</th>\n",
       "      <th></th>\n",
       "      <th></th>\n",
       "      <th></th>\n",
       "      <th></th>\n",
       "      <th></th>\n",
       "    </tr>\n",
       "  </thead>\n",
       "  <tbody>\n",
       "    <tr>\n",
       "      <th>AR</th>\n",
       "      <td>Argentina</td>\n",
       "      <td>América</td>\n",
       "      <td>2780</td>\n",
       "      <td>0</td>\n",
       "      <td>2780000000</td>\n",
       "    </tr>\n",
       "    <tr>\n",
       "      <th>BR</th>\n",
       "      <td>Brasil</td>\n",
       "      <td>América</td>\n",
       "      <td>8511</td>\n",
       "      <td>1</td>\n",
       "      <td>8511000000</td>\n",
       "    </tr>\n",
       "    <tr>\n",
       "      <th>FR</th>\n",
       "      <td>França</td>\n",
       "      <td>Europa</td>\n",
       "      <td>644</td>\n",
       "      <td>0</td>\n",
       "      <td>644000000</td>\n",
       "    </tr>\n",
       "    <tr>\n",
       "      <th>IT</th>\n",
       "      <td>Itália</td>\n",
       "      <td>Europa</td>\n",
       "      <td>301</td>\n",
       "      <td>1</td>\n",
       "      <td>301000000</td>\n",
       "    </tr>\n",
       "    <tr>\n",
       "      <th>UK</th>\n",
       "      <td>Reino Unido</td>\n",
       "      <td>Europa</td>\n",
       "      <td>244</td>\n",
       "      <td>0</td>\n",
       "      <td>244000000</td>\n",
       "    </tr>\n",
       "  </tbody>\n",
       "</table>\n",
       "</div>"
      ],
      "text/plain": [
       "              nome continente  extensao  corVerde   Área(km²)\n",
       "sigla                                                        \n",
       "AR       Argentina    América      2780         0  2780000000\n",
       "BR          Brasil    América      8511         1  8511000000\n",
       "FR          França     Europa       644         0   644000000\n",
       "IT          Itália     Europa       301         1   301000000\n",
       "UK     Reino Unido     Europa       244         0   244000000"
      ]
     },
     "execution_count": 6,
     "metadata": {},
     "output_type": "execute_result"
    }
   ],
   "source": [
    "paises['Área(km²)'] = paises['extensao'] * 1_000_000\n",
    "paises"
   ]
  },
  {
   "cell_type": "code",
   "execution_count": 7,
   "id": "f3a40096",
   "metadata": {},
   "outputs": [
    {
     "data": {
      "text/html": [
       "<div>\n",
       "<style scoped>\n",
       "    .dataframe tbody tr th:only-of-type {\n",
       "        vertical-align: middle;\n",
       "    }\n",
       "\n",
       "    .dataframe tbody tr th {\n",
       "        vertical-align: top;\n",
       "    }\n",
       "\n",
       "    .dataframe thead th {\n",
       "        text-align: right;\n",
       "    }\n",
       "</style>\n",
       "<table border=\"1\" class=\"dataframe\">\n",
       "  <thead>\n",
       "    <tr style=\"text-align: right;\">\n",
       "      <th></th>\n",
       "      <th>nome</th>\n",
       "      <th>continente</th>\n",
       "      <th>extensao</th>\n",
       "      <th>corVerde</th>\n",
       "      <th>Área(km²)</th>\n",
       "      <th>tem_verde</th>\n",
       "    </tr>\n",
       "    <tr>\n",
       "      <th>sigla</th>\n",
       "      <th></th>\n",
       "      <th></th>\n",
       "      <th></th>\n",
       "      <th></th>\n",
       "      <th></th>\n",
       "      <th></th>\n",
       "    </tr>\n",
       "  </thead>\n",
       "  <tbody>\n",
       "    <tr>\n",
       "      <th>AR</th>\n",
       "      <td>Argentina</td>\n",
       "      <td>América</td>\n",
       "      <td>2780</td>\n",
       "      <td>0</td>\n",
       "      <td>2780000000</td>\n",
       "      <td>Não tem verde</td>\n",
       "    </tr>\n",
       "    <tr>\n",
       "      <th>BR</th>\n",
       "      <td>Brasil</td>\n",
       "      <td>América</td>\n",
       "      <td>8511</td>\n",
       "      <td>1</td>\n",
       "      <td>8511000000</td>\n",
       "      <td>Tem verde</td>\n",
       "    </tr>\n",
       "    <tr>\n",
       "      <th>FR</th>\n",
       "      <td>França</td>\n",
       "      <td>Europa</td>\n",
       "      <td>644</td>\n",
       "      <td>0</td>\n",
       "      <td>644000000</td>\n",
       "      <td>Não tem verde</td>\n",
       "    </tr>\n",
       "    <tr>\n",
       "      <th>IT</th>\n",
       "      <td>Itália</td>\n",
       "      <td>Europa</td>\n",
       "      <td>301</td>\n",
       "      <td>1</td>\n",
       "      <td>301000000</td>\n",
       "      <td>Tem verde</td>\n",
       "    </tr>\n",
       "    <tr>\n",
       "      <th>UK</th>\n",
       "      <td>Reino Unido</td>\n",
       "      <td>Europa</td>\n",
       "      <td>244</td>\n",
       "      <td>0</td>\n",
       "      <td>244000000</td>\n",
       "      <td>Não tem verde</td>\n",
       "    </tr>\n",
       "  </tbody>\n",
       "</table>\n",
       "</div>"
      ],
      "text/plain": [
       "              nome continente  extensao  corVerde   Área(km²)      tem_verde\n",
       "sigla                                                                       \n",
       "AR       Argentina    América      2780         0  2780000000  Não tem verde\n",
       "BR          Brasil    América      8511         1  8511000000      Tem verde\n",
       "FR          França     Europa       644         0   644000000  Não tem verde\n",
       "IT          Itália     Europa       301         1   301000000      Tem verde\n",
       "UK     Reino Unido     Europa       244         0   244000000  Não tem verde"
      ]
     },
     "execution_count": 7,
     "metadata": {},
     "output_type": "execute_result"
    }
   ],
   "source": [
    "def tem_verde(valor):\n",
    "    if valor == 1:\n",
    "        return 'Tem verde'\n",
    "    else:\n",
    "        return 'Não tem verde'\n",
    "    \n",
    "paises['tem_verde'] = paises['corVerde'].apply(tem_verde)\n",
    "paises"
   ]
  },
  {
   "cell_type": "code",
   "execution_count": 8,
   "id": "124ef124",
   "metadata": {},
   "outputs": [
    {
     "data": {
      "text/html": [
       "<div>\n",
       "<style scoped>\n",
       "    .dataframe tbody tr th:only-of-type {\n",
       "        vertical-align: middle;\n",
       "    }\n",
       "\n",
       "    .dataframe tbody tr th {\n",
       "        vertical-align: top;\n",
       "    }\n",
       "\n",
       "    .dataframe thead th {\n",
       "        text-align: right;\n",
       "    }\n",
       "</style>\n",
       "<table border=\"1\" class=\"dataframe\">\n",
       "  <thead>\n",
       "    <tr style=\"text-align: right;\">\n",
       "      <th></th>\n",
       "      <th>age</th>\n",
       "      <th>born</th>\n",
       "      <th>name</th>\n",
       "      <th>toy</th>\n",
       "    </tr>\n",
       "  </thead>\n",
       "  <tbody>\n",
       "    <tr>\n",
       "      <th>0</th>\n",
       "      <td>5.0</td>\n",
       "      <td>NaT</td>\n",
       "      <td>Alfred</td>\n",
       "      <td>None</td>\n",
       "    </tr>\n",
       "    <tr>\n",
       "      <th>1</th>\n",
       "      <td>6.0</td>\n",
       "      <td>1939-05-27</td>\n",
       "      <td>Batman</td>\n",
       "      <td>Batmobile</td>\n",
       "    </tr>\n",
       "    <tr>\n",
       "      <th>2</th>\n",
       "      <td>NaN</td>\n",
       "      <td>1940-04-25</td>\n",
       "      <td></td>\n",
       "      <td>Joker</td>\n",
       "    </tr>\n",
       "  </tbody>\n",
       "</table>\n",
       "</div>"
      ],
      "text/plain": [
       "   age       born    name        toy\n",
       "0  5.0        NaT  Alfred       None\n",
       "1  6.0 1939-05-27  Batman  Batmobile\n",
       "2  NaN 1940-04-25              Joker"
      ]
     },
     "execution_count": 8,
     "metadata": {},
     "output_type": "execute_result"
    }
   ],
   "source": [
    "### Limpeza de dados\n",
    "\n",
    "df = pd.DataFrame(dict(age=[5, 6, np.NaN],\n",
    "                   born=[pd.NaT, pd.Timestamp('1939-05-27'),\n",
    "                         pd.Timestamp('1940-04-25')],\n",
    "                   name=['Alfred', 'Batman', ''],\n",
    "                   toy=[None, 'Batmobile', 'Joker']))\n",
    "\n",
    "df"
   ]
  },
  {
   "cell_type": "code",
   "execution_count": 9,
   "id": "547fa4b7",
   "metadata": {},
   "outputs": [
    {
     "name": "stdout",
     "output_type": "stream",
     "text": [
      "     age   born  name    toy\n",
      "0   True  False  True  False\n",
      "1   True   True  True   True\n",
      "2  False   True  True   True\n"
     ]
    }
   ],
   "source": [
    "print(df.notna())"
   ]
  },
  {
   "cell_type": "code",
   "execution_count": 10,
   "id": "0d245930",
   "metadata": {},
   "outputs": [
    {
     "data": {
      "text/html": [
       "<div>\n",
       "<style scoped>\n",
       "    .dataframe tbody tr th:only-of-type {\n",
       "        vertical-align: middle;\n",
       "    }\n",
       "\n",
       "    .dataframe tbody tr th {\n",
       "        vertical-align: top;\n",
       "    }\n",
       "\n",
       "    .dataframe thead th {\n",
       "        text-align: right;\n",
       "    }\n",
       "</style>\n",
       "<table border=\"1\" class=\"dataframe\">\n",
       "  <thead>\n",
       "    <tr style=\"text-align: right;\">\n",
       "      <th></th>\n",
       "      <th>age</th>\n",
       "      <th>born</th>\n",
       "      <th>name</th>\n",
       "      <th>toy</th>\n",
       "    </tr>\n",
       "  </thead>\n",
       "  <tbody>\n",
       "    <tr>\n",
       "      <th>1</th>\n",
       "      <td>6.0</td>\n",
       "      <td>1939-05-27</td>\n",
       "      <td>Batman</td>\n",
       "      <td>Batmobile</td>\n",
       "    </tr>\n",
       "  </tbody>\n",
       "</table>\n",
       "</div>"
      ],
      "text/plain": [
       "   age       born    name        toy\n",
       "1  6.0 1939-05-27  Batman  Batmobile"
      ]
     },
     "execution_count": 10,
     "metadata": {},
     "output_type": "execute_result"
    }
   ],
   "source": [
    "df.dropna()"
   ]
  },
  {
   "cell_type": "code",
   "execution_count": 11,
   "id": "679e6b16",
   "metadata": {},
   "outputs": [
    {
     "data": {
      "text/html": [
       "<div>\n",
       "<style scoped>\n",
       "    .dataframe tbody tr th:only-of-type {\n",
       "        vertical-align: middle;\n",
       "    }\n",
       "\n",
       "    .dataframe tbody tr th {\n",
       "        vertical-align: top;\n",
       "    }\n",
       "\n",
       "    .dataframe thead th {\n",
       "        text-align: right;\n",
       "    }\n",
       "</style>\n",
       "<table border=\"1\" class=\"dataframe\">\n",
       "  <thead>\n",
       "    <tr style=\"text-align: right;\">\n",
       "      <th></th>\n",
       "      <th>A</th>\n",
       "      <th>B</th>\n",
       "      <th>C</th>\n",
       "    </tr>\n",
       "  </thead>\n",
       "  <tbody>\n",
       "    <tr>\n",
       "      <th>0</th>\n",
       "      <td>0</td>\n",
       "      <td>5</td>\n",
       "      <td>a</td>\n",
       "    </tr>\n",
       "    <tr>\n",
       "      <th>1</th>\n",
       "      <td>1</td>\n",
       "      <td>6</td>\n",
       "      <td>b</td>\n",
       "    </tr>\n",
       "    <tr>\n",
       "      <th>2</th>\n",
       "      <td>2</td>\n",
       "      <td>7</td>\n",
       "      <td>c</td>\n",
       "    </tr>\n",
       "    <tr>\n",
       "      <th>3</th>\n",
       "      <td>3</td>\n",
       "      <td>8</td>\n",
       "      <td>d</td>\n",
       "    </tr>\n",
       "    <tr>\n",
       "      <th>4</th>\n",
       "      <td>4</td>\n",
       "      <td>9</td>\n",
       "      <td>e</td>\n",
       "    </tr>\n",
       "  </tbody>\n",
       "</table>\n",
       "</div>"
      ],
      "text/plain": [
       "   A  B  C\n",
       "0  0  5  a\n",
       "1  1  6  b\n",
       "2  2  7  c\n",
       "3  3  8  d\n",
       "4  4  9  e"
      ]
     },
     "execution_count": 11,
     "metadata": {},
     "output_type": "execute_result"
    }
   ],
   "source": [
    "df = pd.DataFrame({'A': [0, 1, 2, 3, 4],\n",
    "                   'B': [5, 6, 7, 8, 9],\n",
    "                   'C': ['a', 'b', 'c', 'd', 'e']})\n",
    "\n",
    "df"
   ]
  },
  {
   "cell_type": "code",
   "execution_count": null,
   "id": "077f7992",
   "metadata": {},
   "outputs": [],
   "source": []
  }
 ],
 "metadata": {
  "kernelspec": {
   "display_name": "Python 3 (ipykernel)",
   "language": "python",
   "name": "python3"
  },
  "language_info": {
   "codemirror_mode": {
    "name": "ipython",
    "version": 3
   },
   "file_extension": ".py",
   "mimetype": "text/x-python",
   "name": "python",
   "nbconvert_exporter": "python",
   "pygments_lexer": "ipython3",
   "version": "3.9.13"
  }
 },
 "nbformat": 4,
 "nbformat_minor": 5
}
