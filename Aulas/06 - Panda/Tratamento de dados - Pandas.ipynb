{
 "cells": [
  {
   "cell_type": "code",
   "execution_count": 8,
   "id": "a5fe530a",
   "metadata": {},
   "outputs": [
    {
     "data": {
      "text/plain": [
       "M05    MARIA\n",
       "M13     BILL\n",
       "M14     CRIS\n",
       "dtype: object"
      ]
     },
     "execution_count": 8,
     "metadata": {},
     "output_type": "execute_result"
    }
   ],
   "source": [
    "import pandas as pd\n",
    "\n",
    "### séries (misto de vetor ou lista com dicionário)\n",
    "\n",
    "dic_alunos = {'M02': 'JOÃO',\n",
    "             'M05': 'MARIA',\n",
    "              'M13': 'BILL',\n",
    "              'M14': 'CRIS',\n",
    "              'M19': 'JIMI'}\n",
    "\n",
    "alunos = pd.Series(dic_alunos)\n",
    "alunos[1:4]\n"
   ]
  },
  {
   "cell_type": "code",
   "execution_count": 9,
   "id": "d2d50358",
   "metadata": {},
   "outputs": [
    {
     "data": {
      "text/plain": [
       "M05    MARIA\n",
       "M14     CRIS\n",
       "dtype: object"
      ]
     },
     "execution_count": 9,
     "metadata": {},
     "output_type": "execute_result"
    }
   ],
   "source": [
    "alunos[['M05', 'M14']]"
   ]
  },
  {
   "cell_type": "code",
   "execution_count": 11,
   "id": "5809dae7",
   "metadata": {},
   "outputs": [
    {
     "data": {
      "text/plain": [
       "0     4\n",
       "1     8\n",
       "2    12\n",
       "dtype: int64"
      ]
     },
     "execution_count": 11,
     "metadata": {},
     "output_type": "execute_result"
    }
   ],
   "source": [
    "s1 = pd.Series([2,4,6])\n",
    "s2 = pd.Series([1,3,5])\n",
    "\n",
    "s1 * 2"
   ]
  },
  {
   "cell_type": "code",
   "execution_count": 12,
   "id": "e9fab693",
   "metadata": {},
   "outputs": [
    {
     "data": {
      "text/plain": [
       "0     2\n",
       "1    12\n",
       "2    30\n",
       "dtype: int64"
      ]
     },
     "execution_count": 12,
     "metadata": {},
     "output_type": "execute_result"
    }
   ],
   "source": [
    "s1 * s2"
   ]
  },
  {
   "cell_type": "code",
   "execution_count": 13,
   "id": "2e652760",
   "metadata": {},
   "outputs": [
    {
     "data": {
      "text/plain": [
       "0    1.000000\n",
       "1    1.732051\n",
       "2    2.236068\n",
       "dtype: float64"
      ]
     },
     "execution_count": 13,
     "metadata": {},
     "output_type": "execute_result"
    }
   ],
   "source": [
    "import numpy as np\n",
    "\n",
    "np.sqrt(s2)"
   ]
  },
  {
   "cell_type": "code",
   "execution_count": 16,
   "id": "da5c72ed",
   "metadata": {},
   "outputs": [
    {
     "data": {
      "text/html": [
       "<div>\n",
       "<style scoped>\n",
       "    .dataframe tbody tr th:only-of-type {\n",
       "        vertical-align: middle;\n",
       "    }\n",
       "\n",
       "    .dataframe tbody tr th {\n",
       "        vertical-align: top;\n",
       "    }\n",
       "\n",
       "    .dataframe thead th {\n",
       "        text-align: right;\n",
       "    }\n",
       "</style>\n",
       "<table border=\"1\" class=\"dataframe\">\n",
       "  <thead>\n",
       "    <tr style=\"text-align: right;\">\n",
       "      <th></th>\n",
       "      <th>nome</th>\n",
       "      <th>continente</th>\n",
       "      <th>extensao</th>\n",
       "      <th>corVerde</th>\n",
       "    </tr>\n",
       "    <tr>\n",
       "      <th>sigla</th>\n",
       "      <th></th>\n",
       "      <th></th>\n",
       "      <th></th>\n",
       "      <th></th>\n",
       "    </tr>\n",
       "  </thead>\n",
       "  <tbody>\n",
       "    <tr>\n",
       "      <th>AR</th>\n",
       "      <td>Argentina</td>\n",
       "      <td>América</td>\n",
       "      <td>2780</td>\n",
       "      <td>0</td>\n",
       "    </tr>\n",
       "    <tr>\n",
       "      <th>BR</th>\n",
       "      <td>Brasil</td>\n",
       "      <td>América</td>\n",
       "      <td>8511</td>\n",
       "      <td>1</td>\n",
       "    </tr>\n",
       "    <tr>\n",
       "      <th>FR</th>\n",
       "      <td>França</td>\n",
       "      <td>Europa</td>\n",
       "      <td>644</td>\n",
       "      <td>0</td>\n",
       "    </tr>\n",
       "    <tr>\n",
       "      <th>IT</th>\n",
       "      <td>Itália</td>\n",
       "      <td>Europa</td>\n",
       "      <td>301</td>\n",
       "      <td>1</td>\n",
       "    </tr>\n",
       "    <tr>\n",
       "      <th>UK</th>\n",
       "      <td>Reino Unido</td>\n",
       "      <td>Europa</td>\n",
       "      <td>244</td>\n",
       "      <td>0</td>\n",
       "    </tr>\n",
       "  </tbody>\n",
       "</table>\n",
       "</div>"
      ],
      "text/plain": [
       "              nome continente  extensao  corVerde\n",
       "sigla                                            \n",
       "AR       Argentina    América      2780         0\n",
       "BR          Brasil    América      8511         1\n",
       "FR          França     Europa       644         0\n",
       "IT          Itália     Europa       301         1\n",
       "UK     Reino Unido     Europa       244         0"
      ]
     },
     "execution_count": 16,
     "metadata": {},
     "output_type": "execute_result"
    }
   ],
   "source": [
    "# Dataframes\n",
    "\n",
    "paises = pd.read_csv('https://raw.githubusercontent.com/celsocrivelaro/simple-datasets/main/paises.csv', index_col='sigla')\n",
    "\n",
    "paises"
   ]
  },
  {
   "cell_type": "code",
   "execution_count": 19,
   "id": "5bfa0e55",
   "metadata": {},
   "outputs": [
    {
     "data": {
      "text/plain": [
       "nome          Argentina\n",
       "continente      América\n",
       "extensao           2780\n",
       "corVerde              0\n",
       "Name: AR, dtype: object"
      ]
     },
     "execution_count": 19,
     "metadata": {},
     "output_type": "execute_result"
    }
   ],
   "source": [
    "paises.iloc[0] # iloc: indice de localização"
   ]
  },
  {
   "cell_type": "code",
   "execution_count": 20,
   "id": "a1173b77",
   "metadata": {},
   "outputs": [
    {
     "data": {
      "text/plain": [
       "nome          Argentina\n",
       "continente      América\n",
       "extensao           2780\n",
       "corVerde              0\n",
       "Name: AR, dtype: object"
      ]
     },
     "execution_count": 20,
     "metadata": {},
     "output_type": "execute_result"
    }
   ],
   "source": [
    "paises.loc['AR'] # Para esse comando funcionar é necessário adicionar o comando index_col"
   ]
  },
  {
   "cell_type": "code",
   "execution_count": 25,
   "id": "d000be2a",
   "metadata": {},
   "outputs": [
    {
     "data": {
      "text/html": [
       "<div>\n",
       "<style scoped>\n",
       "    .dataframe tbody tr th:only-of-type {\n",
       "        vertical-align: middle;\n",
       "    }\n",
       "\n",
       "    .dataframe tbody tr th {\n",
       "        vertical-align: top;\n",
       "    }\n",
       "\n",
       "    .dataframe thead th {\n",
       "        text-align: right;\n",
       "    }\n",
       "</style>\n",
       "<table border=\"1\" class=\"dataframe\">\n",
       "  <thead>\n",
       "    <tr style=\"text-align: right;\">\n",
       "      <th></th>\n",
       "      <th>nome</th>\n",
       "      <th>extensao</th>\n",
       "    </tr>\n",
       "    <tr>\n",
       "      <th>sigla</th>\n",
       "      <th></th>\n",
       "      <th></th>\n",
       "    </tr>\n",
       "  </thead>\n",
       "  <tbody>\n",
       "    <tr>\n",
       "      <th>AR</th>\n",
       "      <td>Argentina</td>\n",
       "      <td>2780</td>\n",
       "    </tr>\n",
       "    <tr>\n",
       "      <th>BR</th>\n",
       "      <td>Brasil</td>\n",
       "      <td>8511</td>\n",
       "    </tr>\n",
       "    <tr>\n",
       "      <th>FR</th>\n",
       "      <td>França</td>\n",
       "      <td>644</td>\n",
       "    </tr>\n",
       "    <tr>\n",
       "      <th>IT</th>\n",
       "      <td>Itália</td>\n",
       "      <td>301</td>\n",
       "    </tr>\n",
       "    <tr>\n",
       "      <th>UK</th>\n",
       "      <td>Reino Unido</td>\n",
       "      <td>244</td>\n",
       "    </tr>\n",
       "  </tbody>\n",
       "</table>\n",
       "</div>"
      ],
      "text/plain": [
       "              nome  extensao\n",
       "sigla                       \n",
       "AR       Argentina      2780\n",
       "BR          Brasil      8511\n",
       "FR          França       644\n",
       "IT          Itália       301\n",
       "UK     Reino Unido       244"
      ]
     },
     "execution_count": 25,
     "metadata": {},
     "output_type": "execute_result"
    }
   ],
   "source": [
    "# filtro de colunas\n",
    "\n",
    "paises[['nome', 'extensao']] # mostrar somente as colunas selecionadas"
   ]
  },
  {
   "cell_type": "code",
   "execution_count": 33,
   "id": "5a32f9a0",
   "metadata": {},
   "outputs": [
    {
     "data": {
      "text/html": [
       "<div>\n",
       "<style scoped>\n",
       "    .dataframe tbody tr th:only-of-type {\n",
       "        vertical-align: middle;\n",
       "    }\n",
       "\n",
       "    .dataframe tbody tr th {\n",
       "        vertical-align: top;\n",
       "    }\n",
       "\n",
       "    .dataframe thead th {\n",
       "        text-align: right;\n",
       "    }\n",
       "</style>\n",
       "<table border=\"1\" class=\"dataframe\">\n",
       "  <thead>\n",
       "    <tr style=\"text-align: right;\">\n",
       "      <th></th>\n",
       "      <th>nome</th>\n",
       "      <th>continente</th>\n",
       "      <th>extensao</th>\n",
       "      <th>corVerde</th>\n",
       "    </tr>\n",
       "    <tr>\n",
       "      <th>sigla</th>\n",
       "      <th></th>\n",
       "      <th></th>\n",
       "      <th></th>\n",
       "      <th></th>\n",
       "    </tr>\n",
       "  </thead>\n",
       "  <tbody>\n",
       "    <tr>\n",
       "      <th>BR</th>\n",
       "      <td>Brasil</td>\n",
       "      <td>América</td>\n",
       "      <td>8511</td>\n",
       "      <td>1</td>\n",
       "    </tr>\n",
       "  </tbody>\n",
       "</table>\n",
       "</div>"
      ],
      "text/plain": [
       "         nome continente  extensao  corVerde\n",
       "sigla                                       \n",
       "BR     Brasil    América      8511         1"
      ]
     },
     "execution_count": 33,
     "metadata": {},
     "output_type": "execute_result"
    }
   ],
   "source": [
    "# filtro de linhas\n",
    "\n",
    "paises[(paises['extensao'] > 2000) & (paises['corVerde'] ==1)]"
   ]
  },
  {
   "cell_type": "code",
   "execution_count": 34,
   "id": "e31d4416",
   "metadata": {},
   "outputs": [
    {
     "data": {
      "text/html": [
       "<div>\n",
       "<style scoped>\n",
       "    .dataframe tbody tr th:only-of-type {\n",
       "        vertical-align: middle;\n",
       "    }\n",
       "\n",
       "    .dataframe tbody tr th {\n",
       "        vertical-align: top;\n",
       "    }\n",
       "\n",
       "    .dataframe thead th {\n",
       "        text-align: right;\n",
       "    }\n",
       "</style>\n",
       "<table border=\"1\" class=\"dataframe\">\n",
       "  <thead>\n",
       "    <tr style=\"text-align: right;\">\n",
       "      <th></th>\n",
       "      <th>nome</th>\n",
       "      <th>continente</th>\n",
       "      <th>extensao</th>\n",
       "      <th>corVerde</th>\n",
       "      <th>area_em_km2</th>\n",
       "    </tr>\n",
       "    <tr>\n",
       "      <th>sigla</th>\n",
       "      <th></th>\n",
       "      <th></th>\n",
       "      <th></th>\n",
       "      <th></th>\n",
       "      <th></th>\n",
       "    </tr>\n",
       "  </thead>\n",
       "  <tbody>\n",
       "    <tr>\n",
       "      <th>AR</th>\n",
       "      <td>Argentina</td>\n",
       "      <td>América</td>\n",
       "      <td>2780</td>\n",
       "      <td>0</td>\n",
       "      <td>2780000000</td>\n",
       "    </tr>\n",
       "    <tr>\n",
       "      <th>BR</th>\n",
       "      <td>Brasil</td>\n",
       "      <td>América</td>\n",
       "      <td>8511</td>\n",
       "      <td>1</td>\n",
       "      <td>8511000000</td>\n",
       "    </tr>\n",
       "    <tr>\n",
       "      <th>FR</th>\n",
       "      <td>França</td>\n",
       "      <td>Europa</td>\n",
       "      <td>644</td>\n",
       "      <td>0</td>\n",
       "      <td>644000000</td>\n",
       "    </tr>\n",
       "    <tr>\n",
       "      <th>IT</th>\n",
       "      <td>Itália</td>\n",
       "      <td>Europa</td>\n",
       "      <td>301</td>\n",
       "      <td>1</td>\n",
       "      <td>301000000</td>\n",
       "    </tr>\n",
       "    <tr>\n",
       "      <th>UK</th>\n",
       "      <td>Reino Unido</td>\n",
       "      <td>Europa</td>\n",
       "      <td>244</td>\n",
       "      <td>0</td>\n",
       "      <td>244000000</td>\n",
       "    </tr>\n",
       "  </tbody>\n",
       "</table>\n",
       "</div>"
      ],
      "text/plain": [
       "              nome continente  extensao  corVerde  area_em_km2\n",
       "sigla                                                         \n",
       "AR       Argentina    América      2780         0   2780000000\n",
       "BR          Brasil    América      8511         1   8511000000\n",
       "FR          França     Europa       644         0    644000000\n",
       "IT          Itália     Europa       301         1    301000000\n",
       "UK     Reino Unido     Europa       244         0    244000000"
      ]
     },
     "execution_count": 34,
     "metadata": {},
     "output_type": "execute_result"
    }
   ],
   "source": [
    "# adicionar nova coluna\n",
    "\n",
    "paises['area_em_km2'] = paises['extensao'] * 1_000_000\n",
    "paises"
   ]
  },
  {
   "cell_type": "code",
   "execution_count": 35,
   "id": "2999e66f",
   "metadata": {},
   "outputs": [
    {
     "data": {
      "text/html": [
       "<div>\n",
       "<style scoped>\n",
       "    .dataframe tbody tr th:only-of-type {\n",
       "        vertical-align: middle;\n",
       "    }\n",
       "\n",
       "    .dataframe tbody tr th {\n",
       "        vertical-align: top;\n",
       "    }\n",
       "\n",
       "    .dataframe thead th {\n",
       "        text-align: right;\n",
       "    }\n",
       "</style>\n",
       "<table border=\"1\" class=\"dataframe\">\n",
       "  <thead>\n",
       "    <tr style=\"text-align: right;\">\n",
       "      <th></th>\n",
       "      <th>nome</th>\n",
       "      <th>continente</th>\n",
       "      <th>extensao</th>\n",
       "      <th>corVerde</th>\n",
       "      <th>area_em_km2</th>\n",
       "      <th>tem_verde</th>\n",
       "    </tr>\n",
       "    <tr>\n",
       "      <th>sigla</th>\n",
       "      <th></th>\n",
       "      <th></th>\n",
       "      <th></th>\n",
       "      <th></th>\n",
       "      <th></th>\n",
       "      <th></th>\n",
       "    </tr>\n",
       "  </thead>\n",
       "  <tbody>\n",
       "    <tr>\n",
       "      <th>AR</th>\n",
       "      <td>Argentina</td>\n",
       "      <td>América</td>\n",
       "      <td>2780</td>\n",
       "      <td>0</td>\n",
       "      <td>2780000000</td>\n",
       "      <td>Não tem verde</td>\n",
       "    </tr>\n",
       "    <tr>\n",
       "      <th>BR</th>\n",
       "      <td>Brasil</td>\n",
       "      <td>América</td>\n",
       "      <td>8511</td>\n",
       "      <td>1</td>\n",
       "      <td>8511000000</td>\n",
       "      <td>tem verde</td>\n",
       "    </tr>\n",
       "    <tr>\n",
       "      <th>FR</th>\n",
       "      <td>França</td>\n",
       "      <td>Europa</td>\n",
       "      <td>644</td>\n",
       "      <td>0</td>\n",
       "      <td>644000000</td>\n",
       "      <td>Não tem verde</td>\n",
       "    </tr>\n",
       "    <tr>\n",
       "      <th>IT</th>\n",
       "      <td>Itália</td>\n",
       "      <td>Europa</td>\n",
       "      <td>301</td>\n",
       "      <td>1</td>\n",
       "      <td>301000000</td>\n",
       "      <td>tem verde</td>\n",
       "    </tr>\n",
       "    <tr>\n",
       "      <th>UK</th>\n",
       "      <td>Reino Unido</td>\n",
       "      <td>Europa</td>\n",
       "      <td>244</td>\n",
       "      <td>0</td>\n",
       "      <td>244000000</td>\n",
       "      <td>Não tem verde</td>\n",
       "    </tr>\n",
       "  </tbody>\n",
       "</table>\n",
       "</div>"
      ],
      "text/plain": [
       "              nome continente  extensao  corVerde  area_em_km2      tem_verde\n",
       "sigla                                                                        \n",
       "AR       Argentina    América      2780         0   2780000000  Não tem verde\n",
       "BR          Brasil    América      8511         1   8511000000      tem verde\n",
       "FR          França     Europa       644         0    644000000  Não tem verde\n",
       "IT          Itália     Europa       301         1    301000000      tem verde\n",
       "UK     Reino Unido     Europa       244         0    244000000  Não tem verde"
      ]
     },
     "execution_count": 35,
     "metadata": {},
     "output_type": "execute_result"
    }
   ],
   "source": [
    "# criar funções\n",
    "\n",
    "def tem_verde(valor):\n",
    "    if valor == 1:\n",
    "        return \"tem verde\"\n",
    "    else:\n",
    "        return \"Não tem verde\"\n",
    "    \n",
    "paises['tem_verde'] = paises['corVerde'].apply(tem_verde)\n",
    "paises"
   ]
  },
  {
   "cell_type": "code",
   "execution_count": 39,
   "id": "8771073c",
   "metadata": {},
   "outputs": [
    {
     "data": {
      "text/html": [
       "<div>\n",
       "<style scoped>\n",
       "    .dataframe tbody tr th:only-of-type {\n",
       "        vertical-align: middle;\n",
       "    }\n",
       "\n",
       "    .dataframe tbody tr th {\n",
       "        vertical-align: top;\n",
       "    }\n",
       "\n",
       "    .dataframe thead th {\n",
       "        text-align: right;\n",
       "    }\n",
       "</style>\n",
       "<table border=\"1\" class=\"dataframe\">\n",
       "  <thead>\n",
       "    <tr style=\"text-align: right;\">\n",
       "      <th></th>\n",
       "      <th>age</th>\n",
       "      <th>born</th>\n",
       "      <th>name</th>\n",
       "      <th>toy</th>\n",
       "    </tr>\n",
       "  </thead>\n",
       "  <tbody>\n",
       "    <tr>\n",
       "      <th>0</th>\n",
       "      <td>5.0</td>\n",
       "      <td>NaT</td>\n",
       "      <td>Alfred</td>\n",
       "      <td>None</td>\n",
       "    </tr>\n",
       "    <tr>\n",
       "      <th>1</th>\n",
       "      <td>6.0</td>\n",
       "      <td>1939-05-27</td>\n",
       "      <td>Batman</td>\n",
       "      <td>Batmobile</td>\n",
       "    </tr>\n",
       "    <tr>\n",
       "      <th>2</th>\n",
       "      <td>NaN</td>\n",
       "      <td>1940-04-25</td>\n",
       "      <td></td>\n",
       "      <td>Joker</td>\n",
       "    </tr>\n",
       "  </tbody>\n",
       "</table>\n",
       "</div>"
      ],
      "text/plain": [
       "   age       born    name        toy\n",
       "0  5.0        NaT  Alfred       None\n",
       "1  6.0 1939-05-27  Batman  Batmobile\n",
       "2  NaN 1940-04-25              Joker"
      ]
     },
     "execution_count": 39,
     "metadata": {},
     "output_type": "execute_result"
    }
   ],
   "source": [
    "# limpeza de dados\n",
    "# exclusão\n",
    "\n",
    "df = pd.DataFrame(dict(age=[5,6,np.NaN],\n",
    "                      born = [pd.NaT, pd.Timestamp('1939-05-27'),\n",
    "                             pd.Timestamp('1940-04-25')],\n",
    "                      name = ['Alfred', 'Batman', ''],\n",
    "                      toy = [None, 'Batmobile', 'Joker']))\n",
    "\n",
    "df"
   ]
  },
  {
   "cell_type": "code",
   "execution_count": 40,
   "id": "2f4cd1dc",
   "metadata": {},
   "outputs": [
    {
     "name": "stdout",
     "output_type": "stream",
     "text": [
      "     age   born  name    toy\n",
      "0   True  False  True  False\n",
      "1   True   True  True   True\n",
      "2  False   True  True   True\n"
     ]
    }
   ],
   "source": [
    "print(df.notna()) # procura por campos válidos"
   ]
  },
  {
   "cell_type": "code",
   "execution_count": 41,
   "id": "6c4d0afe",
   "metadata": {},
   "outputs": [
    {
     "data": {
      "text/html": [
       "<div>\n",
       "<style scoped>\n",
       "    .dataframe tbody tr th:only-of-type {\n",
       "        vertical-align: middle;\n",
       "    }\n",
       "\n",
       "    .dataframe tbody tr th {\n",
       "        vertical-align: top;\n",
       "    }\n",
       "\n",
       "    .dataframe thead th {\n",
       "        text-align: right;\n",
       "    }\n",
       "</style>\n",
       "<table border=\"1\" class=\"dataframe\">\n",
       "  <thead>\n",
       "    <tr style=\"text-align: right;\">\n",
       "      <th></th>\n",
       "      <th>age</th>\n",
       "      <th>born</th>\n",
       "      <th>name</th>\n",
       "      <th>toy</th>\n",
       "    </tr>\n",
       "  </thead>\n",
       "  <tbody>\n",
       "    <tr>\n",
       "      <th>1</th>\n",
       "      <td>6.0</td>\n",
       "      <td>1939-05-27</td>\n",
       "      <td>Batman</td>\n",
       "      <td>Batmobile</td>\n",
       "    </tr>\n",
       "  </tbody>\n",
       "</table>\n",
       "</div>"
      ],
      "text/plain": [
       "   age       born    name        toy\n",
       "1  6.0 1939-05-27  Batman  Batmobile"
      ]
     },
     "execution_count": 41,
     "metadata": {},
     "output_type": "execute_result"
    }
   ],
   "source": [
    "df.dropna() # apago as linhas que tem elementos em branco ou não válidos"
   ]
  },
  {
   "cell_type": "code",
   "execution_count": 42,
   "id": "38ee48ce",
   "metadata": {},
   "outputs": [
    {
     "data": {
      "text/html": [
       "<div>\n",
       "<style scoped>\n",
       "    .dataframe tbody tr th:only-of-type {\n",
       "        vertical-align: middle;\n",
       "    }\n",
       "\n",
       "    .dataframe tbody tr th {\n",
       "        vertical-align: top;\n",
       "    }\n",
       "\n",
       "    .dataframe thead th {\n",
       "        text-align: right;\n",
       "    }\n",
       "</style>\n",
       "<table border=\"1\" class=\"dataframe\">\n",
       "  <thead>\n",
       "    <tr style=\"text-align: right;\">\n",
       "      <th></th>\n",
       "      <th>A</th>\n",
       "      <th>B</th>\n",
       "      <th>C</th>\n",
       "    </tr>\n",
       "  </thead>\n",
       "  <tbody>\n",
       "    <tr>\n",
       "      <th>0</th>\n",
       "      <td>0</td>\n",
       "      <td>5</td>\n",
       "      <td>a</td>\n",
       "    </tr>\n",
       "    <tr>\n",
       "      <th>1</th>\n",
       "      <td>1</td>\n",
       "      <td>6</td>\n",
       "      <td>b</td>\n",
       "    </tr>\n",
       "    <tr>\n",
       "      <th>2</th>\n",
       "      <td>2</td>\n",
       "      <td>7</td>\n",
       "      <td>c</td>\n",
       "    </tr>\n",
       "    <tr>\n",
       "      <th>3</th>\n",
       "      <td>3</td>\n",
       "      <td>8</td>\n",
       "      <td>d</td>\n",
       "    </tr>\n",
       "    <tr>\n",
       "      <th>4</th>\n",
       "      <td>4</td>\n",
       "      <td>9</td>\n",
       "      <td>e</td>\n",
       "    </tr>\n",
       "  </tbody>\n",
       "</table>\n",
       "</div>"
      ],
      "text/plain": [
       "   A  B  C\n",
       "0  0  5  a\n",
       "1  1  6  b\n",
       "2  2  7  c\n",
       "3  3  8  d\n",
       "4  4  9  e"
      ]
     },
     "execution_count": 42,
     "metadata": {},
     "output_type": "execute_result"
    }
   ],
   "source": [
    "# substituição de valores\n",
    "\n",
    "df = pd.DataFrame({'A': [0,1,2,3,4],\n",
    "                  'B': [5,6,7,8,9],\n",
    "                  'C': ['a', 'b', 'c', 'd', 'e']})\n",
    "\n",
    "df"
   ]
  },
  {
   "cell_type": "code",
   "execution_count": 43,
   "id": "f431c65c",
   "metadata": {},
   "outputs": [
    {
     "data": {
      "text/html": [
       "<div>\n",
       "<style scoped>\n",
       "    .dataframe tbody tr th:only-of-type {\n",
       "        vertical-align: middle;\n",
       "    }\n",
       "\n",
       "    .dataframe tbody tr th {\n",
       "        vertical-align: top;\n",
       "    }\n",
       "\n",
       "    .dataframe thead th {\n",
       "        text-align: right;\n",
       "    }\n",
       "</style>\n",
       "<table border=\"1\" class=\"dataframe\">\n",
       "  <thead>\n",
       "    <tr style=\"text-align: right;\">\n",
       "      <th></th>\n",
       "      <th>A</th>\n",
       "      <th>B</th>\n",
       "      <th>C</th>\n",
       "    </tr>\n",
       "  </thead>\n",
       "  <tbody>\n",
       "    <tr>\n",
       "      <th>0</th>\n",
       "      <td>5</td>\n",
       "      <td>5</td>\n",
       "      <td>a</td>\n",
       "    </tr>\n",
       "    <tr>\n",
       "      <th>1</th>\n",
       "      <td>1</td>\n",
       "      <td>6</td>\n",
       "      <td>b</td>\n",
       "    </tr>\n",
       "    <tr>\n",
       "      <th>2</th>\n",
       "      <td>2</td>\n",
       "      <td>7</td>\n",
       "      <td>c</td>\n",
       "    </tr>\n",
       "    <tr>\n",
       "      <th>3</th>\n",
       "      <td>3</td>\n",
       "      <td>8</td>\n",
       "      <td>d</td>\n",
       "    </tr>\n",
       "    <tr>\n",
       "      <th>4</th>\n",
       "      <td>4</td>\n",
       "      <td>9</td>\n",
       "      <td>e</td>\n",
       "    </tr>\n",
       "  </tbody>\n",
       "</table>\n",
       "</div>"
      ],
      "text/plain": [
       "   A  B  C\n",
       "0  5  5  a\n",
       "1  1  6  b\n",
       "2  2  7  c\n",
       "3  3  8  d\n",
       "4  4  9  e"
      ]
     },
     "execution_count": 43,
     "metadata": {},
     "output_type": "execute_result"
    }
   ],
   "source": [
    "df.replace(0, 5)"
   ]
  },
  {
   "cell_type": "code",
   "execution_count": null,
   "id": "7808922a",
   "metadata": {},
   "outputs": [],
   "source": []
  }
 ],
 "metadata": {
  "kernelspec": {
   "display_name": "Python 3 (ipykernel)",
   "language": "python",
   "name": "python3"
  },
  "language_info": {
   "codemirror_mode": {
    "name": "ipython",
    "version": 3
   },
   "file_extension": ".py",
   "mimetype": "text/x-python",
   "name": "python",
   "nbconvert_exporter": "python",
   "pygments_lexer": "ipython3",
   "version": "3.9.13"
  }
 },
 "nbformat": 4,
 "nbformat_minor": 5
}
